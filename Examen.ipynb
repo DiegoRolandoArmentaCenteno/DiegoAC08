{
  "nbformat": 4,
  "nbformat_minor": 0,
  "metadata": {
    "colab": {
      "name": "Examen.ipynb",
      "provenance": [],
      "collapsed_sections": []
    },
    "kernelspec": {
      "name": "python3",
      "display_name": "Python 3"
    },
    "language_info": {
      "name": "python"
    }
  },
  "cells": [
    {
      "cell_type": "code",
      "execution_count": null,
      "metadata": {
        "colab": {
          "base_uri": "https://localhost:8080/"
        },
        "id": "ql01Qq_e5lg8",
        "outputId": "b3a97e82-92a3-4151-9783-5b4f52154e57"
      },
      "outputs": [
        {
          "output_type": "stream",
          "name": "stdout",
          "text": [
            "[1, 3, 5, 7, 9, 11, 13, 15, 17, 19, 21, 23, 25, 27, 29, 31, 33, 35, 37, 39]\n",
            "[39, 37, 35, 33, 31, 29, 27, 25, 23, 21, 19, 17, 15, 13, 11, 9, 7, 5, 3, 1]\n"
          ]
        }
      ],
      "source": [
        "N=[]\n",
        "J=19\n",
        "for i in range(0, 41):\n",
        "\tif i%2!=0:\n",
        "\t\tN.append(i)\n",
        "print(N)\n",
        "for i in range(0,10):\n",
        "\n",
        "  v1=N[J]\n",
        "  N[J]=N[i]\n",
        "  N[i]=v1\n",
        "  J=J-1\n",
        "print(N)"
      ]
    }
  ]
}